{
 "cells": [
  {
   "cell_type": "code",
   "execution_count": 1,
   "id": "f2098f03-4acf-4242-81fe-4a20d541b3b3",
   "metadata": {
    "tags": []
   },
   "outputs": [],
   "source": [
    "import pandas as pd\n",
    "import numpy as np\n",
    "import matplotlib.pyplot as plt\n",
    "\n",
    "import datetime as dt"
   ]
  },
  {
   "cell_type": "markdown",
   "id": "929f3185-9e3d-4859-b2cd-2d7bdb3bcd75",
   "metadata": {},
   "source": [
    "## Feature Engineering\n",
    "\n",
    "See: https://www.projectpro.io/article/8-feature-engineering-techniques-for-machine-learning/423\n",
    "\n",
    "Feature engineering is the 'art' of formulating useful features from existing data following the target to be learned and the machine learning model used. It involves transforming data to forms that better relate to the underlying target to be learned. When done right, feature engineering can augment the value of your existing data and improve the performance of your machine learning models. On the other hand, using bad features may require you to build much more complex models to achieve the same level of performance."
   ]
  },
  {
   "cell_type": "markdown",
   "id": "d5313757-d3a3-489f-abff-a6f399775dc8",
   "metadata": {},
   "source": [
    "#### A first example\n",
    "\n",
    "Consider the following dataset:"
   ]
  },
  {
   "cell_type": "code",
   "execution_count": 17,
   "id": "aebdd918-9238-427d-994e-37c2159d5664",
   "metadata": {
    "tags": []
   },
   "outputs": [
    {
     "data": {
      "text/html": [
       "<div>\n",
       "<style scoped>\n",
       "    .dataframe tbody tr th:only-of-type {\n",
       "        vertical-align: middle;\n",
       "    }\n",
       "\n",
       "    .dataframe tbody tr th {\n",
       "        vertical-align: top;\n",
       "    }\n",
       "\n",
       "    .dataframe thead th {\n",
       "        text-align: right;\n",
       "    }\n",
       "</style>\n",
       "<table border=\"1\" class=\"dataframe\">\n",
       "  <thead>\n",
       "    <tr style=\"text-align: right;\">\n",
       "      <th></th>\n",
       "      <th>Candy Variety</th>\n",
       "      <th>Date and Time</th>\n",
       "      <th>Day</th>\n",
       "      <th>Length</th>\n",
       "      <th>Breadth</th>\n",
       "      <th>Price</th>\n",
       "    </tr>\n",
       "  </thead>\n",
       "  <tbody>\n",
       "    <tr>\n",
       "      <th>0</th>\n",
       "      <td>Chocolate Hears</td>\n",
       "      <td>09-02-2020 14:05</td>\n",
       "      <td>Sunday</td>\n",
       "      <td>3.0</td>\n",
       "      <td>2.0</td>\n",
       "      <td>7.5</td>\n",
       "    </tr>\n",
       "    <tr>\n",
       "      <th>1</th>\n",
       "      <td>Sour Jelly</td>\n",
       "      <td>24-10-2020 18:00</td>\n",
       "      <td>Saturday</td>\n",
       "      <td>3.5</td>\n",
       "      <td>2.0</td>\n",
       "      <td>7.6</td>\n",
       "    </tr>\n",
       "    <tr>\n",
       "      <th>2</th>\n",
       "      <td>Candy Canes</td>\n",
       "      <td>18-12-2020 20:13</td>\n",
       "      <td>Friday</td>\n",
       "      <td>3.5</td>\n",
       "      <td>2.5</td>\n",
       "      <td>8.0</td>\n",
       "    </tr>\n",
       "    <tr>\n",
       "      <th>3</th>\n",
       "      <td>Sour Jelly</td>\n",
       "      <td>25-10-2020 10:00</td>\n",
       "      <td>Sunday</td>\n",
       "      <td>3.5</td>\n",
       "      <td>2.0</td>\n",
       "      <td>7.6</td>\n",
       "    </tr>\n",
       "    <tr>\n",
       "      <th>4</th>\n",
       "      <td>Fruit Drops</td>\n",
       "      <td>18-10-2020 15:46</td>\n",
       "      <td>Sunday</td>\n",
       "      <td>5.0</td>\n",
       "      <td>3.0</td>\n",
       "      <td>9.0</td>\n",
       "    </tr>\n",
       "  </tbody>\n",
       "</table>\n",
       "</div>"
      ],
      "text/plain": [
       "     Candy Variety     Date and Time       Day  Length  Breadth  Price\n",
       "0  Chocolate Hears  09-02-2020 14:05    Sunday     3.0      2.0    7.5\n",
       "1       Sour Jelly  24-10-2020 18:00  Saturday     3.5      2.0    7.6\n",
       "2      Candy Canes  18-12-2020 20:13    Friday     3.5      2.5    8.0\n",
       "3       Sour Jelly  25-10-2020 10:00    Sunday     3.5      2.0    7.6\n",
       "4      Fruit Drops  18-10-2020 15:46    Sunday     5.0      3.0    9.0"
      ]
     },
     "execution_count": 17,
     "metadata": {},
     "output_type": "execute_result"
    }
   ],
   "source": [
    "data = {'Candy Variety':['Chocolate Hears', 'Sour Jelly', 'Candy Canes', 'Sour Jelly', 'Fruit Drops'], \n",
    "        'Date and Time':['09-02-2020 14:05', '24-10-2020 18:00', '18-12-2020 20:13', '25-10-2020 10:00', '18-10-2020 15:46'],\n",
    "       'Day':['Sunday', 'Saturday', 'Friday', 'Sunday', 'Sunday'],\n",
    "       'Length':[3, 3.5, 3.5, 3.5, 5],\n",
    "       'Breadth':[2, 2, 2.5, 2, 3],\n",
    "       'Price':[7.5, 7.6, 8, 7.6, 9]}\n",
    "\n",
    "df = pd.DataFrame(data)\n",
    "# df['Date and Time'] = pd.to_datetime(df['Date and Time'], format=\"%d-%m-%Y %H:%M\")\n",
    "\n",
    "df"
   ]
  },
  {
   "cell_type": "markdown",
   "id": "6ebc6032-f7f7-4954-bf91-924602bd5bed",
   "metadata": {},
   "source": [
    "- You have also been informed that the customers are uncompromising candy-lovers who consider their candy preference far more important than the price or even dimensions (essentially uncorrelated price, dimensions, and candy sales). What would you do when you are asked to predict which kind of candy is most likely to sell the most on a particular day?\n",
    "- Then, the variety of candy ordered would depend more on the date than on the time of the day it was ordered and also that the sales for a particular variety of candy would vary according to the season. \n",
    "\n",
    "Now that you instinctively know what features would most likely contribute to your predictions, let's go ahead and present our data better by simply creating a new feature Date from the existing feature Date and Time."
   ]
  },
  {
   "cell_type": "code",
   "execution_count": 3,
   "id": "2680d634-a240-4df4-afff-ae3548b93aa8",
   "metadata": {
    "tags": []
   },
   "outputs": [
    {
     "data": {
      "text/html": [
       "<div>\n",
       "<style scoped>\n",
       "    .dataframe tbody tr th:only-of-type {\n",
       "        vertical-align: middle;\n",
       "    }\n",
       "\n",
       "    .dataframe tbody tr th {\n",
       "        vertical-align: top;\n",
       "    }\n",
       "\n",
       "    .dataframe thead th {\n",
       "        text-align: right;\n",
       "    }\n",
       "</style>\n",
       "<table border=\"1\" class=\"dataframe\">\n",
       "  <thead>\n",
       "    <tr style=\"text-align: right;\">\n",
       "      <th></th>\n",
       "      <th>Date and Time</th>\n",
       "      <th>Date</th>\n",
       "    </tr>\n",
       "  </thead>\n",
       "  <tbody>\n",
       "    <tr>\n",
       "      <th>0</th>\n",
       "      <td>2020-02-09 14:05:00</td>\n",
       "      <td>2020-02-09</td>\n",
       "    </tr>\n",
       "    <tr>\n",
       "      <th>1</th>\n",
       "      <td>2020-10-24 18:00:00</td>\n",
       "      <td>2020-10-24</td>\n",
       "    </tr>\n",
       "    <tr>\n",
       "      <th>2</th>\n",
       "      <td>2020-12-18 20:13:00</td>\n",
       "      <td>2020-12-18</td>\n",
       "    </tr>\n",
       "    <tr>\n",
       "      <th>3</th>\n",
       "      <td>2020-10-25 10:00:00</td>\n",
       "      <td>2020-10-25</td>\n",
       "    </tr>\n",
       "    <tr>\n",
       "      <th>4</th>\n",
       "      <td>2020-10-18 15:46:00</td>\n",
       "      <td>2020-10-18</td>\n",
       "    </tr>\n",
       "  </tbody>\n",
       "</table>\n",
       "</div>"
      ],
      "text/plain": [
       "        Date and Time        Date\n",
       "0 2020-02-09 14:05:00  2020-02-09\n",
       "1 2020-10-24 18:00:00  2020-10-24\n",
       "2 2020-12-18 20:13:00  2020-12-18\n",
       "3 2020-10-25 10:00:00  2020-10-25\n",
       "4 2020-10-18 15:46:00  2020-10-18"
      ]
     },
     "execution_count": 3,
     "metadata": {},
     "output_type": "execute_result"
    }
   ],
   "source": [
    "df['Date'] = df['Date and Time'].dt.date\n",
    "df[['Date and Time', 'Date']]"
   ]
  },
  {
   "cell_type": "markdown",
   "id": "c921ec2d-bfe2-4bfe-b5cf-f84753136253",
   "metadata": {},
   "source": [
    "- The table you have obtained as a result should definitely make it at least a tad bit simpler for you to predict that Sour Jellies are most likely to sell, especially around the end of October (Halloween!) given the very same input data…\n",
    "- In addition, if you wanted to know more about the weekend and weekday sale trends, in particular, you could categorize the days of the week in a feature called Weekend with 1=True and 0=False "
   ]
  },
  {
   "cell_type": "code",
   "execution_count": 4,
   "id": "7fa7616a-434d-4145-89f1-d730677cf236",
   "metadata": {
    "tags": []
   },
   "outputs": [
    {
     "data": {
      "text/html": [
       "<div>\n",
       "<style scoped>\n",
       "    .dataframe tbody tr th:only-of-type {\n",
       "        vertical-align: middle;\n",
       "    }\n",
       "\n",
       "    .dataframe tbody tr th {\n",
       "        vertical-align: top;\n",
       "    }\n",
       "\n",
       "    .dataframe thead th {\n",
       "        text-align: right;\n",
       "    }\n",
       "</style>\n",
       "<table border=\"1\" class=\"dataframe\">\n",
       "  <thead>\n",
       "    <tr style=\"text-align: right;\">\n",
       "      <th></th>\n",
       "      <th>Candy Variety</th>\n",
       "      <th>Date</th>\n",
       "      <th>Weekend</th>\n",
       "    </tr>\n",
       "  </thead>\n",
       "  <tbody>\n",
       "    <tr>\n",
       "      <th>0</th>\n",
       "      <td>Chocolate Hears</td>\n",
       "      <td>2020-02-09</td>\n",
       "      <td>1</td>\n",
       "    </tr>\n",
       "    <tr>\n",
       "      <th>1</th>\n",
       "      <td>Sour Jelly</td>\n",
       "      <td>2020-10-24</td>\n",
       "      <td>1</td>\n",
       "    </tr>\n",
       "    <tr>\n",
       "      <th>2</th>\n",
       "      <td>Candy Canes</td>\n",
       "      <td>2020-12-18</td>\n",
       "      <td>0</td>\n",
       "    </tr>\n",
       "    <tr>\n",
       "      <th>3</th>\n",
       "      <td>Sour Jelly</td>\n",
       "      <td>2020-10-25</td>\n",
       "      <td>1</td>\n",
       "    </tr>\n",
       "    <tr>\n",
       "      <th>4</th>\n",
       "      <td>Fruit Drops</td>\n",
       "      <td>2020-10-18</td>\n",
       "      <td>1</td>\n",
       "    </tr>\n",
       "  </tbody>\n",
       "</table>\n",
       "</div>"
      ],
      "text/plain": [
       "     Candy Variety        Date  Weekend\n",
       "0  Chocolate Hears  2020-02-09        1\n",
       "1       Sour Jelly  2020-10-24        1\n",
       "2      Candy Canes  2020-12-18        0\n",
       "3       Sour Jelly  2020-10-25        1\n",
       "4      Fruit Drops  2020-10-18        1"
      ]
     },
     "execution_count": 4,
     "metadata": {},
     "output_type": "execute_result"
    }
   ],
   "source": [
    "df['Weekend'] = np.where(df['Day'].isin(['Saturday', 'Sunday']), 1, 0)\n",
    "df[['Candy Variety', 'Date', 'Weekend']]"
   ]
  },
  {
   "cell_type": "markdown",
   "id": "7035a87b-682e-4528-b9e0-785aa37244a6",
   "metadata": {
    "tags": []
   },
   "source": [
    "### Feature Engineering Techniques"
   ]
  },
  {
   "cell_type": "markdown",
   "id": "a370f120-578b-4901-86a1-a2ea6c8ac4b4",
   "metadata": {},
   "source": [
    "#### Imputation \n",
    "\n",
    "Imputation deals with handling missing values in data. While deleting records that are missing certain values is one way of dealing with this issue, it could also mean losing out on a chunk of valuable data. This is where imputation can help. It can be broadly classified into two types. Namely:\n",
    "\n",
    "- Categorical Imputation: Missing categorical values are generally replaced by the most commonly occurring value in other records\n",
    "- Numerical Imputation: Missing numerical values are generally replaced by the mean of the corresponding value in other records\n",
    "\n",
    "The technique of imputation given above corresponds with the principle of normal distribution (where the values in the distribution are more likely to occur closer to the mean rather than the edges) which results in a fairly good estimate of missing data. A few other ways to go about this include replacing missing values by picking the value from a normal distribution with the mean and standard deviation of the corresponding existing values or even replacing the missing value with an arbitrary value.\n",
    "\n",
    "However, one must be reasonably cautious when using this technique because retention of data size with this technique could come at the cost of deterioration of data quality. For example, say in the above candy problem you were given 5 records instead of one with the 'Candy Variety' missing. Using the above technique you would predict the missing values as 'Sour Jelly' resulting in possibly predicting the high sales of Sour Jellies all through the year!  Therefore, it is wise to filter out records that have greater than a certain number of missing values or certain critical values missing and apply your discretion depending on the size and quality of data you are working with.\n",
    "\n"
   ]
  },
  {
   "cell_type": "code",
   "execution_count": 18,
   "id": "aeb24e8d-98f1-4683-9ae9-0d939f86d4c9",
   "metadata": {
    "tags": []
   },
   "outputs": [
    {
     "data": {
      "text/html": [
       "<div>\n",
       "<style scoped>\n",
       "    .dataframe tbody tr th:only-of-type {\n",
       "        vertical-align: middle;\n",
       "    }\n",
       "\n",
       "    .dataframe tbody tr th {\n",
       "        vertical-align: top;\n",
       "    }\n",
       "\n",
       "    .dataframe thead th {\n",
       "        text-align: right;\n",
       "    }\n",
       "</style>\n",
       "<table border=\"1\" class=\"dataframe\">\n",
       "  <thead>\n",
       "    <tr style=\"text-align: right;\">\n",
       "      <th></th>\n",
       "      <th>Candy Variety</th>\n",
       "      <th>Date and Time</th>\n",
       "      <th>Day</th>\n",
       "      <th>Length</th>\n",
       "      <th>Breadth</th>\n",
       "      <th>Price</th>\n",
       "    </tr>\n",
       "  </thead>\n",
       "  <tbody>\n",
       "    <tr>\n",
       "      <th>0</th>\n",
       "      <td>Chocolate Hears</td>\n",
       "      <td>09-02-2020 14:05</td>\n",
       "      <td>Sunday</td>\n",
       "      <td>3.0</td>\n",
       "      <td>2.0</td>\n",
       "      <td>7.5</td>\n",
       "    </tr>\n",
       "    <tr>\n",
       "      <th>1</th>\n",
       "      <td>Sour Jelly</td>\n",
       "      <td>24-10-2020 18:00</td>\n",
       "      <td>Saturday</td>\n",
       "      <td>3.5</td>\n",
       "      <td>2.0</td>\n",
       "      <td>7.6</td>\n",
       "    </tr>\n",
       "    <tr>\n",
       "      <th>2</th>\n",
       "      <td>Candy Canes</td>\n",
       "      <td>18-12-2020 20:13</td>\n",
       "      <td>Friday</td>\n",
       "      <td>3.5</td>\n",
       "      <td>2.5</td>\n",
       "      <td>8.0</td>\n",
       "    </tr>\n",
       "    <tr>\n",
       "      <th>3</th>\n",
       "      <td>Sour Jelly</td>\n",
       "      <td>25-10-2020 10:00</td>\n",
       "      <td>Sunday</td>\n",
       "      <td>3.5</td>\n",
       "      <td>2.0</td>\n",
       "      <td>7.6</td>\n",
       "    </tr>\n",
       "    <tr>\n",
       "      <th>4</th>\n",
       "      <td>Fruit Drops</td>\n",
       "      <td>18-10-2020 15:46</td>\n",
       "      <td>Sunday</td>\n",
       "      <td>5.0</td>\n",
       "      <td>3.0</td>\n",
       "      <td>9.0</td>\n",
       "    </tr>\n",
       "    <tr>\n",
       "      <th>5</th>\n",
       "      <td>NaN</td>\n",
       "      <td>22-10-2020 17:24</td>\n",
       "      <td>Thursday</td>\n",
       "      <td>3.5</td>\n",
       "      <td>2.0</td>\n",
       "      <td>NaN</td>\n",
       "    </tr>\n",
       "  </tbody>\n",
       "</table>\n",
       "</div>"
      ],
      "text/plain": [
       "     Candy Variety     Date and Time       Day  Length  Breadth  Price\n",
       "0  Chocolate Hears  09-02-2020 14:05    Sunday     3.0      2.0    7.5\n",
       "1       Sour Jelly  24-10-2020 18:00  Saturday     3.5      2.0    7.6\n",
       "2      Candy Canes  18-12-2020 20:13    Friday     3.5      2.5    8.0\n",
       "3       Sour Jelly  25-10-2020 10:00    Sunday     3.5      2.0    7.6\n",
       "4      Fruit Drops  18-10-2020 15:46    Sunday     5.0      3.0    9.0\n",
       "5              NaN  22-10-2020 17:24  Thursday     3.5      2.0    NaN"
      ]
     },
     "execution_count": 18,
     "metadata": {},
     "output_type": "execute_result"
    }
   ],
   "source": [
    "# Append row with missing values\n",
    "df.loc[len(df.index)] = [np.NaN, '22-10-2020 17:24', 'Thursday', 3.5, 2, np.NaN]\n",
    "\n",
    "df"
   ]
  },
  {
   "cell_type": "code",
   "execution_count": 19,
   "id": "0b1644fe-ad45-4ca4-aeba-aec0be95d853",
   "metadata": {
    "tags": []
   },
   "outputs": [
    {
     "data": {
      "text/html": [
       "<div>\n",
       "<style scoped>\n",
       "    .dataframe tbody tr th:only-of-type {\n",
       "        vertical-align: middle;\n",
       "    }\n",
       "\n",
       "    .dataframe tbody tr th {\n",
       "        vertical-align: top;\n",
       "    }\n",
       "\n",
       "    .dataframe thead th {\n",
       "        text-align: right;\n",
       "    }\n",
       "</style>\n",
       "<table border=\"1\" class=\"dataframe\">\n",
       "  <thead>\n",
       "    <tr style=\"text-align: right;\">\n",
       "      <th></th>\n",
       "      <th>Candy Variety</th>\n",
       "      <th>Date and Time</th>\n",
       "      <th>Day</th>\n",
       "      <th>Length</th>\n",
       "      <th>Breadth</th>\n",
       "      <th>Price</th>\n",
       "    </tr>\n",
       "  </thead>\n",
       "  <tbody>\n",
       "    <tr>\n",
       "      <th>0</th>\n",
       "      <td>Chocolate Hears</td>\n",
       "      <td>09-02-2020 14:05</td>\n",
       "      <td>Sunday</td>\n",
       "      <td>3.0</td>\n",
       "      <td>2.0</td>\n",
       "      <td>7.50</td>\n",
       "    </tr>\n",
       "    <tr>\n",
       "      <th>1</th>\n",
       "      <td>Sour Jelly</td>\n",
       "      <td>24-10-2020 18:00</td>\n",
       "      <td>Saturday</td>\n",
       "      <td>3.5</td>\n",
       "      <td>2.0</td>\n",
       "      <td>7.60</td>\n",
       "    </tr>\n",
       "    <tr>\n",
       "      <th>2</th>\n",
       "      <td>Candy Canes</td>\n",
       "      <td>18-12-2020 20:13</td>\n",
       "      <td>Friday</td>\n",
       "      <td>3.5</td>\n",
       "      <td>2.5</td>\n",
       "      <td>8.00</td>\n",
       "    </tr>\n",
       "    <tr>\n",
       "      <th>3</th>\n",
       "      <td>Sour Jelly</td>\n",
       "      <td>25-10-2020 10:00</td>\n",
       "      <td>Sunday</td>\n",
       "      <td>3.5</td>\n",
       "      <td>2.0</td>\n",
       "      <td>7.60</td>\n",
       "    </tr>\n",
       "    <tr>\n",
       "      <th>4</th>\n",
       "      <td>Fruit Drops</td>\n",
       "      <td>18-10-2020 15:46</td>\n",
       "      <td>Sunday</td>\n",
       "      <td>5.0</td>\n",
       "      <td>3.0</td>\n",
       "      <td>9.00</td>\n",
       "    </tr>\n",
       "    <tr>\n",
       "      <th>5</th>\n",
       "      <td>Sour Jelly</td>\n",
       "      <td>22-10-2020 17:24</td>\n",
       "      <td>Thursday</td>\n",
       "      <td>3.5</td>\n",
       "      <td>2.0</td>\n",
       "      <td>7.94</td>\n",
       "    </tr>\n",
       "  </tbody>\n",
       "</table>\n",
       "</div>"
      ],
      "text/plain": [
       "     Candy Variety     Date and Time       Day  Length  Breadth  Price\n",
       "0  Chocolate Hears  09-02-2020 14:05    Sunday     3.0      2.0   7.50\n",
       "1       Sour Jelly  24-10-2020 18:00  Saturday     3.5      2.0   7.60\n",
       "2      Candy Canes  18-12-2020 20:13    Friday     3.5      2.5   8.00\n",
       "3       Sour Jelly  25-10-2020 10:00    Sunday     3.5      2.0   7.60\n",
       "4      Fruit Drops  18-10-2020 15:46    Sunday     5.0      3.0   9.00\n",
       "5       Sour Jelly  22-10-2020 17:24  Thursday     3.5      2.0   7.94"
      ]
     },
     "execution_count": 19,
     "metadata": {},
     "output_type": "execute_result"
    }
   ],
   "source": [
    "df['Candy Variety'] = df['Candy Variety'].fillna(df['Candy Variety'].mode()[0])\n",
    "df['Price'] = df['Price'].fillna(df['Price'].mean())\n",
    "\n",
    "df"
   ]
  },
  {
   "cell_type": "markdown",
   "id": "e1f4e60a-ef98-4645-b21e-930ad74c62cf",
   "metadata": {
    "tags": []
   },
   "source": [
    "#### Discretization \n",
    "\n",
    "Discretization involves essentially taking a set of values of data and grouping sets of them together in some logical fashion into bins (or buckets). Binning can apply to numerical values as well as to categorical values. This could help prevent data from overfitting but comes at the cost of loss of granularity of data. The grouping of data can be done as follows:\n",
    "\n",
    "- Grouping of equal intervals\n",
    "- Grouping based on equal frequencies (of observations in the bin)\n",
    "- Grouping based on decision tree sorting (to establish a relationship with target)"
   ]
  },
  {
   "cell_type": "code",
   "execution_count": 20,
   "id": "38bd551d-47c3-4fb6-bf2e-78652ea84fa0",
   "metadata": {
    "tags": []
   },
   "outputs": [
    {
     "data": {
      "text/html": [
       "<div>\n",
       "<style scoped>\n",
       "    .dataframe tbody tr th:only-of-type {\n",
       "        vertical-align: middle;\n",
       "    }\n",
       "\n",
       "    .dataframe tbody tr th {\n",
       "        vertical-align: top;\n",
       "    }\n",
       "\n",
       "    .dataframe thead th {\n",
       "        text-align: right;\n",
       "    }\n",
       "</style>\n",
       "<table border=\"1\" class=\"dataframe\">\n",
       "  <thead>\n",
       "    <tr style=\"text-align: right;\">\n",
       "      <th></th>\n",
       "      <th>Candy Variety</th>\n",
       "      <th>Day</th>\n",
       "      <th>Type of Day</th>\n",
       "    </tr>\n",
       "  </thead>\n",
       "  <tbody>\n",
       "    <tr>\n",
       "      <th>0</th>\n",
       "      <td>Chocolate Hears</td>\n",
       "      <td>Sunday</td>\n",
       "      <td>Weekend</td>\n",
       "    </tr>\n",
       "    <tr>\n",
       "      <th>1</th>\n",
       "      <td>Sour Jelly</td>\n",
       "      <td>Saturday</td>\n",
       "      <td>Weekend</td>\n",
       "    </tr>\n",
       "    <tr>\n",
       "      <th>2</th>\n",
       "      <td>Candy Canes</td>\n",
       "      <td>Friday</td>\n",
       "      <td>Weekday</td>\n",
       "    </tr>\n",
       "    <tr>\n",
       "      <th>3</th>\n",
       "      <td>Sour Jelly</td>\n",
       "      <td>Sunday</td>\n",
       "      <td>Weekend</td>\n",
       "    </tr>\n",
       "    <tr>\n",
       "      <th>4</th>\n",
       "      <td>Fruit Drops</td>\n",
       "      <td>Sunday</td>\n",
       "      <td>Weekend</td>\n",
       "    </tr>\n",
       "    <tr>\n",
       "      <th>5</th>\n",
       "      <td>Sour Jelly</td>\n",
       "      <td>Thursday</td>\n",
       "      <td>Weekday</td>\n",
       "    </tr>\n",
       "  </tbody>\n",
       "</table>\n",
       "</div>"
      ],
      "text/plain": [
       "     Candy Variety       Day Type of Day\n",
       "0  Chocolate Hears    Sunday     Weekend\n",
       "1       Sour Jelly  Saturday     Weekend\n",
       "2      Candy Canes    Friday     Weekday\n",
       "3       Sour Jelly    Sunday     Weekend\n",
       "4      Fruit Drops    Sunday     Weekend\n",
       "5       Sour Jelly  Thursday     Weekday"
      ]
     },
     "execution_count": 20,
     "metadata": {},
     "output_type": "execute_result"
    }
   ],
   "source": [
    "df['Type of Day'] = np.where(df['Day'].isin(['Saturday', 'Sunday']), 'Weekend', 'Weekday')\n",
    "df[['Candy Variety', 'Day', 'Type of Day']]"
   ]
  },
  {
   "cell_type": "markdown",
   "id": "13fd0df8-7760-4d07-96ae-ea6b960396aa",
   "metadata": {},
   "source": [
    "#### Categorical Encoding\n",
    "\n",
    "- Categorical encoding is the technique used to encode categorical features into numerical values which are usually simpler for an algorithm to understand. One-hot-encoding (OHE) is a popularly used technique of categorical encoding. Here, categorical values are converted into simple numerical 1's and 0's without the loss of information. As with other techniques, OHE has its own disadvantages and has to be used sparingly. It could result in a dramatic increase in the number of features and result in the creation of highly correlated features. \n",
    "- Besides OHE there are other methods of categorical encodings, such as:\n",
    "    1. Count and Frequency encoding - captures each label's representation \n",
    "    2. Mean encoding - establishes the relationship with the target \n",
    "    3. Ordinal encoding - number assigned to each unique label."
   ]
  },
  {
   "cell_type": "code",
   "execution_count": 21,
   "id": "4c8680bd-9392-46f2-804e-6f2bb3d90d61",
   "metadata": {
    "tags": []
   },
   "outputs": [
    {
     "data": {
      "text/html": [
       "<div>\n",
       "<style scoped>\n",
       "    .dataframe tbody tr th:only-of-type {\n",
       "        vertical-align: middle;\n",
       "    }\n",
       "\n",
       "    .dataframe tbody tr th {\n",
       "        vertical-align: top;\n",
       "    }\n",
       "\n",
       "    .dataframe thead th {\n",
       "        text-align: right;\n",
       "    }\n",
       "</style>\n",
       "<table border=\"1\" class=\"dataframe\">\n",
       "  <thead>\n",
       "    <tr style=\"text-align: right;\">\n",
       "      <th></th>\n",
       "      <th>Candy Variety</th>\n",
       "      <th>Day</th>\n",
       "      <th>Type of Day</th>\n",
       "      <th>Weekend</th>\n",
       "      <th>Weekday</th>\n",
       "    </tr>\n",
       "  </thead>\n",
       "  <tbody>\n",
       "    <tr>\n",
       "      <th>0</th>\n",
       "      <td>Chocolate Hears</td>\n",
       "      <td>Sunday</td>\n",
       "      <td>Weekend</td>\n",
       "      <td>1</td>\n",
       "      <td>0</td>\n",
       "    </tr>\n",
       "    <tr>\n",
       "      <th>1</th>\n",
       "      <td>Sour Jelly</td>\n",
       "      <td>Saturday</td>\n",
       "      <td>Weekend</td>\n",
       "      <td>1</td>\n",
       "      <td>0</td>\n",
       "    </tr>\n",
       "    <tr>\n",
       "      <th>2</th>\n",
       "      <td>Candy Canes</td>\n",
       "      <td>Friday</td>\n",
       "      <td>Weekday</td>\n",
       "      <td>0</td>\n",
       "      <td>1</td>\n",
       "    </tr>\n",
       "    <tr>\n",
       "      <th>3</th>\n",
       "      <td>Sour Jelly</td>\n",
       "      <td>Sunday</td>\n",
       "      <td>Weekend</td>\n",
       "      <td>1</td>\n",
       "      <td>0</td>\n",
       "    </tr>\n",
       "    <tr>\n",
       "      <th>4</th>\n",
       "      <td>Fruit Drops</td>\n",
       "      <td>Sunday</td>\n",
       "      <td>Weekend</td>\n",
       "      <td>1</td>\n",
       "      <td>0</td>\n",
       "    </tr>\n",
       "    <tr>\n",
       "      <th>5</th>\n",
       "      <td>Sour Jelly</td>\n",
       "      <td>Thursday</td>\n",
       "      <td>Weekday</td>\n",
       "      <td>0</td>\n",
       "      <td>1</td>\n",
       "    </tr>\n",
       "  </tbody>\n",
       "</table>\n",
       "</div>"
      ],
      "text/plain": [
       "     Candy Variety       Day Type of Day  Weekend  Weekday\n",
       "0  Chocolate Hears    Sunday     Weekend        1        0\n",
       "1       Sour Jelly  Saturday     Weekend        1        0\n",
       "2      Candy Canes    Friday     Weekday        0        1\n",
       "3       Sour Jelly    Sunday     Weekend        1        0\n",
       "4      Fruit Drops    Sunday     Weekend        1        0\n",
       "5       Sour Jelly  Thursday     Weekday        0        1"
      ]
     },
     "execution_count": 21,
     "metadata": {},
     "output_type": "execute_result"
    }
   ],
   "source": [
    "for x in df['Type of Day'].unique():\n",
    "    df[x] = np.where(df['Type of Day']==x, 1, 0)\n",
    "\n",
    "df[['Candy Variety', 'Day', 'Type of Day', 'Weekend', 'Weekday']]"
   ]
  },
  {
   "cell_type": "markdown",
   "id": "cdbff149-7111-4c5e-8703-36b4bf640d6e",
   "metadata": {},
   "source": [
    "#### Feature Splitting \n",
    "\n",
    "Splitting features into parts can sometimes improve the value of the features toward the target to be learned. For instance, in this case, Date better contributes to the target function than Date and Time."
   ]
  },
  {
   "cell_type": "code",
   "execution_count": 22,
   "id": "d8bc26e2-26ef-40c0-b13c-e2a27dc42056",
   "metadata": {
    "tags": []
   },
   "outputs": [
    {
     "data": {
      "text/html": [
       "<div>\n",
       "<style scoped>\n",
       "    .dataframe tbody tr th:only-of-type {\n",
       "        vertical-align: middle;\n",
       "    }\n",
       "\n",
       "    .dataframe tbody tr th {\n",
       "        vertical-align: top;\n",
       "    }\n",
       "\n",
       "    .dataframe thead th {\n",
       "        text-align: right;\n",
       "    }\n",
       "</style>\n",
       "<table border=\"1\" class=\"dataframe\">\n",
       "  <thead>\n",
       "    <tr style=\"text-align: right;\">\n",
       "      <th></th>\n",
       "      <th>Candy Variety</th>\n",
       "      <th>Date and Time</th>\n",
       "      <th>Date</th>\n",
       "    </tr>\n",
       "  </thead>\n",
       "  <tbody>\n",
       "    <tr>\n",
       "      <th>0</th>\n",
       "      <td>Chocolate Hears</td>\n",
       "      <td>2020-02-09 14:05:00</td>\n",
       "      <td>2020-02-09</td>\n",
       "    </tr>\n",
       "    <tr>\n",
       "      <th>1</th>\n",
       "      <td>Sour Jelly</td>\n",
       "      <td>2020-10-24 18:00:00</td>\n",
       "      <td>2020-10-24</td>\n",
       "    </tr>\n",
       "    <tr>\n",
       "      <th>2</th>\n",
       "      <td>Candy Canes</td>\n",
       "      <td>2020-12-18 20:13:00</td>\n",
       "      <td>2020-12-18</td>\n",
       "    </tr>\n",
       "    <tr>\n",
       "      <th>3</th>\n",
       "      <td>Sour Jelly</td>\n",
       "      <td>2020-10-25 10:00:00</td>\n",
       "      <td>2020-10-25</td>\n",
       "    </tr>\n",
       "    <tr>\n",
       "      <th>4</th>\n",
       "      <td>Fruit Drops</td>\n",
       "      <td>2020-10-18 15:46:00</td>\n",
       "      <td>2020-10-18</td>\n",
       "    </tr>\n",
       "    <tr>\n",
       "      <th>5</th>\n",
       "      <td>Sour Jelly</td>\n",
       "      <td>2020-10-22 17:24:00</td>\n",
       "      <td>2020-10-22</td>\n",
       "    </tr>\n",
       "  </tbody>\n",
       "</table>\n",
       "</div>"
      ],
      "text/plain": [
       "     Candy Variety       Date and Time        Date\n",
       "0  Chocolate Hears 2020-02-09 14:05:00  2020-02-09\n",
       "1       Sour Jelly 2020-10-24 18:00:00  2020-10-24\n",
       "2      Candy Canes 2020-12-18 20:13:00  2020-12-18\n",
       "3       Sour Jelly 2020-10-25 10:00:00  2020-10-25\n",
       "4      Fruit Drops 2020-10-18 15:46:00  2020-10-18\n",
       "5       Sour Jelly 2020-10-22 17:24:00  2020-10-22"
      ]
     },
     "execution_count": 22,
     "metadata": {},
     "output_type": "execute_result"
    }
   ],
   "source": [
    "df['Date and Time'] = pd.to_datetime(df['Date and Time'], format=\"%d-%m-%Y %H:%M\")\n",
    "df['Date'] = df['Date and Time'].dt.date\n",
    "df[['Candy Variety', 'Date and Time', 'Date']]"
   ]
  },
  {
   "cell_type": "markdown",
   "id": "870138f7-f9db-40d0-a922-9b76b52b3245",
   "metadata": {},
   "source": [
    "#### Handling Outliers\n",
    "\n",
    "Outliers are unusually high or low values in the dataset which are unlikely to occur in normal scenarios. Since these outliers could adversely affect your prediction they must be handled appropriately. The various methods of handling outliers include:\n",
    "\n",
    "- Removal: The records containing outliers are removed from the distribution. However, the presence of outliers over multiple variables could result in losing out on a large portion of the datasheet with this method.\n",
    "- Replacing values: The outliers could alternatively be treated as missing values and replaced by using appropriate imputation.\n",
    "- Capping: Capping the maximum and minimum values and replacing them with an arbitrary value or a value from a variable distribution.\n",
    "- Discretization"
   ]
  },
  {
   "cell_type": "markdown",
   "id": "4ea8329d-0173-4c04-98c3-86db0bb165bb",
   "metadata": {},
   "source": [
    "#### Variable Transformations\n",
    "\n",
    "Variable transformation techniques could help with normalizing skewed data. One such popularly used transformation is the logarithmic transformation. Logarithmic transformations operate to compress the larger numbers and relatively expand the smaller numbers. This in turn results in less skewed values especially in the case of heavy-tailed distributions. Other variable transformations used include Square root transformation and Box cox transformation which is a generalization of the former two.\n",
    "\n"
   ]
  },
  {
   "cell_type": "markdown",
   "id": "4cabad6e-6352-43de-a19b-5d14fb35bdc0",
   "metadata": {},
   "source": [
    "#### Scaling\n",
    "\n",
    "Feature scaling is done owing to the sensitivity of some machine learning algorithms to the scale of the input values. This technique of feature scaling is sometimes referred to as feature normalization. The commonly used processes of scaling include:\n",
    "\n",
    "    1. Min-Max Scaling: This process involves the rescaling of all values in a feature in the range 0 to 1. In other words, the minimum value in the original range will take the value 0, the maximum value will take 1 and the rest of the values in between the two extremes will be appropriately scaled.\n",
    "    2. Standardization/Variance scaling: All the data points are subtracted by their mean and the result divided by the distribution's variance to arrive at a distribution with a 0 mean and variance of 1.\n",
    "    \n",
    "It is necessary to be cautious when scaling sparse data using the above two techniques as it could result in additional computational load."
   ]
  },
  {
   "cell_type": "markdown",
   "id": "2871dc19-fcea-4542-ade5-db496361e1a6",
   "metadata": {},
   "source": [
    "#### Creating Features\n",
    "\n",
    "Feature creation involves deriving new features from existing ones. This can be done by simple mathematical operations such as aggregations to obtain the mean, median, mode, sum, or difference and even product of two values. These features, although derived directly from the given data, when carefully chosen to relate to the target can have an impact on the performance!\n"
   ]
  },
  {
   "cell_type": "markdown",
   "id": "87968713-85f8-4e05-bed8-005a0a1d83ae",
   "metadata": {
    "jp-MarkdownHeadingCollapsed": true,
    "tags": []
   },
   "source": [
    "## Example: Simple price prediction for Candy Sales\n"
   ]
  },
  {
   "cell_type": "markdown",
   "id": "a2de36ef-b001-41cf-baf0-279170433eaf",
   "metadata": {},
   "source": [
    "- Consider the previously introduced candy dataset. Let’s consider a simple price prediction problem for our candy sales data.\n",
    "- We will use a simple linear regression model to predict the price of the various types of candies and experience first-hand how to implement python feature engineering.\n",
    "\n",
    "Let’s start by building a function to calculate the coefficients using the standard formula for calculating the slope and intercept for our simple linear regression model. "
   ]
  },
  {
   "cell_type": "code",
   "execution_count": 23,
   "id": "451a97b3-0a0f-428c-a6f9-e43df8c8e837",
   "metadata": {
    "tags": []
   },
   "outputs": [
    {
     "data": {
      "text/html": [
       "<div>\n",
       "<style scoped>\n",
       "    .dataframe tbody tr th:only-of-type {\n",
       "        vertical-align: middle;\n",
       "    }\n",
       "\n",
       "    .dataframe tbody tr th {\n",
       "        vertical-align: top;\n",
       "    }\n",
       "\n",
       "    .dataframe thead th {\n",
       "        text-align: right;\n",
       "    }\n",
       "</style>\n",
       "<table border=\"1\" class=\"dataframe\">\n",
       "  <thead>\n",
       "    <tr style=\"text-align: right;\">\n",
       "      <th></th>\n",
       "      <th>Candy Variety</th>\n",
       "      <th>Date and Time</th>\n",
       "      <th>Day</th>\n",
       "      <th>Length</th>\n",
       "      <th>Breadth</th>\n",
       "      <th>Price</th>\n",
       "    </tr>\n",
       "  </thead>\n",
       "  <tbody>\n",
       "    <tr>\n",
       "      <th>0</th>\n",
       "      <td>Chocolate Hears</td>\n",
       "      <td>09-02-2020 14:05</td>\n",
       "      <td>Sunday</td>\n",
       "      <td>3.0</td>\n",
       "      <td>2.0</td>\n",
       "      <td>7.5</td>\n",
       "    </tr>\n",
       "    <tr>\n",
       "      <th>1</th>\n",
       "      <td>Sour Jelly</td>\n",
       "      <td>24-10-2020 18:00</td>\n",
       "      <td>Saturday</td>\n",
       "      <td>3.5</td>\n",
       "      <td>2.0</td>\n",
       "      <td>7.6</td>\n",
       "    </tr>\n",
       "    <tr>\n",
       "      <th>2</th>\n",
       "      <td>Candy Canes</td>\n",
       "      <td>18-12-2020 20:13</td>\n",
       "      <td>Friday</td>\n",
       "      <td>3.5</td>\n",
       "      <td>2.5</td>\n",
       "      <td>8.0</td>\n",
       "    </tr>\n",
       "    <tr>\n",
       "      <th>3</th>\n",
       "      <td>Sour Jelly</td>\n",
       "      <td>25-10-2020 10:00</td>\n",
       "      <td>Sunday</td>\n",
       "      <td>3.5</td>\n",
       "      <td>2.0</td>\n",
       "      <td>7.6</td>\n",
       "    </tr>\n",
       "    <tr>\n",
       "      <th>4</th>\n",
       "      <td>Fruit Drops</td>\n",
       "      <td>18-10-2020 15:46</td>\n",
       "      <td>Sunday</td>\n",
       "      <td>5.0</td>\n",
       "      <td>3.0</td>\n",
       "      <td>9.0</td>\n",
       "    </tr>\n",
       "  </tbody>\n",
       "</table>\n",
       "</div>"
      ],
      "text/plain": [
       "     Candy Variety     Date and Time       Day  Length  Breadth  Price\n",
       "0  Chocolate Hears  09-02-2020 14:05    Sunday     3.0      2.0    7.5\n",
       "1       Sour Jelly  24-10-2020 18:00  Saturday     3.5      2.0    7.6\n",
       "2      Candy Canes  18-12-2020 20:13    Friday     3.5      2.5    8.0\n",
       "3       Sour Jelly  25-10-2020 10:00    Sunday     3.5      2.0    7.6\n",
       "4      Fruit Drops  18-10-2020 15:46    Sunday     5.0      3.0    9.0"
      ]
     },
     "execution_count": 23,
     "metadata": {},
     "output_type": "execute_result"
    }
   ],
   "source": [
    "data = {'Candy Variety':['Chocolate Hears', 'Sour Jelly', 'Candy Canes', 'Sour Jelly', 'Fruit Drops'], \n",
    "        'Date and Time':['09-02-2020 14:05', '24-10-2020 18:00', '18-12-2020 20:13', '25-10-2020 10:00', '18-10-2020 15:46'],\n",
    "       'Day':['Sunday', 'Saturday', 'Friday', 'Sunday', 'Sunday'],\n",
    "       'Length':[3, 3.5, 3.5, 3.5, 5],\n",
    "       'Breadth':[2, 2, 2.5, 2, 3],\n",
    "       'Price':[7.5, 7.6, 8, 7.6, 9]}\n",
    "\n",
    "df = pd.DataFrame(data)\n",
    "df"
   ]
  },
  {
   "cell_type": "code",
   "execution_count": 24,
   "id": "5cb3acc0-6037-42a0-aa9b-09d7a79f25e9",
   "metadata": {
    "tags": []
   },
   "outputs": [],
   "source": [
    "def simple_linear_regression(x, y):\n",
    "    n = np.size(x)\n",
    "    mean_x = np.mean(x)\n",
    "    mean_y = np.mean(y)\n",
    "    \n",
    "    xy = np.sum(y*x) - n*mean_y*mean_x\n",
    "    xx = np.sum(x*x) - n*mean_x*mean_x\n",
    "    \n",
    "    m = xy/xx\n",
    "    c = mean_y - m*mean_x\n",
    "    \n",
    "    return m, c"
   ]
  },
  {
   "cell_type": "code",
   "execution_count": 25,
   "id": "04220a85-cf0b-4b67-a251-1ae3f668a95f",
   "metadata": {
    "tags": []
   },
   "outputs": [
    {
     "data": {
      "image/png": "[encoded data removed]",
      "text/plain": [
       "<Figure size 640x480 with 1 Axes>"
      ]
     },
     "metadata": {},
     "output_type": "display_data"
    }
   ],
   "source": [
    "x = df['Length'].to_numpy()\n",
    "y = df['Price'].to_numpy()\n",
    "\n",
    "m, c = simple_linear_regression(x, y)\n",
    "y_pred = c + m*x\n",
    "\n",
    "plt.plot(x, y_pred, color = 'g', label = 'Price Prediction')\n",
    "plt.scatter(df['Length'].to_numpy(), y, marker = 'o', label = 'Training set')\n",
    "plt.xlabel('Length')\n",
    "plt.ylabel('Price')\n",
    "plt.legend(bbox_to_anchor=(1,1))\n",
    "plt.show()"
   ]
  },
  {
   "cell_type": "markdown",
   "id": "3be0ea2b-c08a-43d0-8a84-5af943e5b9f0",
   "metadata": {},
   "source": [
    "- We observe from the figure that Length does not have a particularly linear relation with the price.\n",
    "We attempt a similar prediction with the Breadth to get a somewhat similar outcome."
   ]
  },
  {
   "cell_type": "code",
   "execution_count": 26,
   "id": "7aea3788-af15-4da7-9066-c4a877c984cc",
   "metadata": {
    "tags": []
   },
   "outputs": [
    {
     "data": {
      "image/png": "[encoded data removed]",
      "text/plain": [
       "<Figure size 640x480 with 1 Axes>"
      ]
     },
     "metadata": {},
     "output_type": "display_data"
    }
   ],
   "source": [
    "x = df['Breadth'].to_numpy()\n",
    "y = df['Price'].to_numpy()\n",
    "\n",
    "m, c = simple_linear_regression(x, y)\n",
    "y_pred = c + m*x\n",
    "\n",
    "plt.plot(x, y_pred, color = 'g', label = 'Price Prediction')\n",
    "plt.scatter(df['Breadth'].to_numpy(), y, marker = 'o', label = 'Training set')\n",
    "plt.xlabel('Breadth')\n",
    "plt.ylabel('Price')\n",
    "plt.legend(bbox_to_anchor=(1,1))\n",
    "plt.show()"
   ]
  },
  {
   "cell_type": "markdown",
   "id": "9df97f08-6b7f-497c-8f3b-a93c2248e04b",
   "metadata": {},
   "source": [
    "- Finally, it’s time to apply our newly gained knowledge of Feature Engineering! Instead of using just the given features, we use the Length and Breadth feature to derive a new feature called Size which (you might have already guessed) should have a much more monotonic relation with the Price of candy than the two features it was derived from."
   ]
  },
  {
   "cell_type": "code",
   "execution_count": 27,
   "id": "e4142aad-aa66-4398-aa21-81148bdc04c1",
   "metadata": {
    "tags": []
   },
   "outputs": [
    {
     "data": {
      "text/html": [
       "<div>\n",
       "<style scoped>\n",
       "    .dataframe tbody tr th:only-of-type {\n",
       "        vertical-align: middle;\n",
       "    }\n",
       "\n",
       "    .dataframe tbody tr th {\n",
       "        vertical-align: top;\n",
       "    }\n",
       "\n",
       "    .dataframe thead th {\n",
       "        text-align: right;\n",
       "    }\n",
       "</style>\n",
       "<table border=\"1\" class=\"dataframe\">\n",
       "  <thead>\n",
       "    <tr style=\"text-align: right;\">\n",
       "      <th></th>\n",
       "      <th>Candy Variety</th>\n",
       "      <th>Price</th>\n",
       "      <th>Size</th>\n",
       "    </tr>\n",
       "  </thead>\n",
       "  <tbody>\n",
       "    <tr>\n",
       "      <th>0</th>\n",
       "      <td>Chocolate Hears</td>\n",
       "      <td>7.5</td>\n",
       "      <td>6.00</td>\n",
       "    </tr>\n",
       "    <tr>\n",
       "      <th>1</th>\n",
       "      <td>Sour Jelly</td>\n",
       "      <td>7.6</td>\n",
       "      <td>7.00</td>\n",
       "    </tr>\n",
       "    <tr>\n",
       "      <th>2</th>\n",
       "      <td>Candy Canes</td>\n",
       "      <td>8.0</td>\n",
       "      <td>8.75</td>\n",
       "    </tr>\n",
       "    <tr>\n",
       "      <th>3</th>\n",
       "      <td>Sour Jelly</td>\n",
       "      <td>7.6</td>\n",
       "      <td>7.00</td>\n",
       "    </tr>\n",
       "    <tr>\n",
       "      <th>4</th>\n",
       "      <td>Fruit Drops</td>\n",
       "      <td>9.0</td>\n",
       "      <td>15.00</td>\n",
       "    </tr>\n",
       "  </tbody>\n",
       "</table>\n",
       "</div>"
      ],
      "text/plain": [
       "     Candy Variety  Price   Size\n",
       "0  Chocolate Hears    7.5   6.00\n",
       "1       Sour Jelly    7.6   7.00\n",
       "2      Candy Canes    8.0   8.75\n",
       "3       Sour Jelly    7.6   7.00\n",
       "4      Fruit Drops    9.0  15.00"
      ]
     },
     "execution_count": 27,
     "metadata": {},
     "output_type": "execute_result"
    }
   ],
   "source": [
    "df['Size'] = df['Breadth']*df['Length']\n",
    "df[['Candy Variety', 'Price', 'Size']]"
   ]
  },
  {
   "cell_type": "code",
   "execution_count": 28,
   "id": "2b9097d6-211c-49e3-a45b-88fbf2f37012",
   "metadata": {
    "tags": []
   },
   "outputs": [
    {
     "data": {
      "image/png": "[encoded data removed]",
      "text/plain": [
       "<Figure size 640x480 with 1 Axes>"
      ]
     },
     "metadata": {},
     "output_type": "display_data"
    }
   ],
   "source": [
    "x = df['Size'].to_numpy()\n",
    "y = df['Price'].to_numpy()\n",
    "\n",
    "m, c = simple_linear_regression(x, y)\n",
    "y_pred = c + m*x\n",
    "\n",
    "plt.plot(x, y_pred, color = 'g', label = 'Price Prediction')\n",
    "plt.scatter(df['Size'].to_numpy(), y, marker = 'o', label = 'Training set')\n",
    "plt.xlabel('Size')\n",
    "plt.ylabel('Price')\n",
    "plt.legend(bbox_to_anchor=(1,1))\n",
    "plt.show()"
   ]
  },
  {
   "cell_type": "markdown",
   "id": "17ff647d-601d-492e-88cc-444762e33dd6",
   "metadata": {},
   "source": [
    "## Example:\n",
    "\n",
    "https://www.kdnuggets.com/2018/12/feature-engineering-explained.html"
   ]
  },
  {
   "cell_type": "code",
   "execution_count": 35,
   "id": "7355b3dd-d270-49c4-9c31-29217f655a2c",
   "metadata": {
    "tags": []
   },
   "outputs": [],
   "source": [
    "import math"
   ]
  },
  {
   "cell_type": "code",
   "execution_count": 37,
   "id": "1ad848af-a409-404b-993f-ab0ec2427bb9",
   "metadata": {
    "tags": []
   },
   "outputs": [
    {
     "data": {
      "text/plain": [
       "480"
      ]
     },
     "execution_count": 37,
     "metadata": {},
     "output_type": "execute_result"
    }
   ],
   "source": [
    "math.factorial(6) - math.factorial(4)*10"
   ]
  },
  {
   "cell_type": "code",
   "execution_count": 39,
   "id": "b54559a2-fe86-465f-9c86-359211b1c54d",
   "metadata": {
    "tags": []
   },
   "outputs": [
    {
     "data": {
      "text/plain": [
       "768"
      ]
     },
     "execution_count": 39,
     "metadata": {},
     "output_type": "execute_result"
    }
   ],
   "source": [
    "math.factorial(4)*4*8"
   ]
  },
  {
   "cell_type": "code",
   "execution_count": 40,
   "id": "63cd143d-9efa-42f4-ace9-84eda2122352",
   "metadata": {
    "tags": []
   },
   "outputs": [
    {
     "data": {
      "text/plain": [
       "0.5555555555555556"
      ]
     },
     "execution_count": 40,
     "metadata": {},
     "output_type": "execute_result"
    }
   ],
   "source": [
    "15/27"
   ]
  },
  {
   "cell_type": "code",
   "execution_count": null,
   "id": "840636d6-0ef8-40e1-8ed9-6b2e55a91547",
   "metadata": {},
   "outputs": [],
   "source": []
  }
 ],
 "metadata": {
  "kernelspec": {
   "display_name": "Python 3 (ipykernel)",
   "language": "python",
   "name": "python3"
  },
  "language_info": {
   "codemirror_mode": {
    "name": "ipython",
    "version": 3
   },
   "file_extension": ".py",
   "mimetype": "text/x-python",
   "name": "python",
   "nbconvert_exporter": "python",
   "pygments_lexer": "ipython3",
   "version": "3.11.1"
  }
 },
 "nbformat": 4,
 "nbformat_minor": 5
}
