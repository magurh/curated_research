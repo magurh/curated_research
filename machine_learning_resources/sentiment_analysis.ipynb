{
 "cells": [
  {
   "cell_type": "code",
   "execution_count": 1,
   "id": "fead658d-c2bf-4775-aa16-49268db4726e",
   "metadata": {
    "tags": []
   },
   "outputs": [],
   "source": [
    "import numpy as np\n",
    "import pandas as pd\n",
    "import matplotlib.pyplot as plt"
   ]
  },
  {
   "cell_type": "markdown",
   "id": "f34ca3bf-20ba-4f01-9914-da1ea3b8a800",
   "metadata": {
    "jp-MarkdownHeadingCollapsed": true,
    "tags": []
   },
   "source": [
    "# Sentiment Analysis\n",
    "\n",
    "Based on: https://www.nickmccullum.com/stock-market-sentiment-analysis-python/\n",
    "\n",
    "- Sentiment analysis, also known as opinion mining, is a natural language processing technique (NLP) used to establish whether data is positive, neutral, or negative.\n",
    "- When it comes to the stock market, you can use sentiment analysis to analyze news headlines about a particular stock. From this, you can tell whether the price of a stock is headed in a positive or a negative direction. we will be extracting stock sentiments from FinViz website using Python. We will be targeting the headlines of the financial news that are published on the website.\n",
    "\n",
    "Libraries needed:\n",
    "\n",
    "- BeautifulSoup - to parse data from the website\n",
    "- urllib (requests) library to get the data\n",
    "- nltk.sentiment.vader library to perform sentiment analysis on the news headlines. Here NLTK stands for Natural Language Toolkit."
   ]
  },
  {
   "cell_type": "markdown",
   "id": "863b15dd-eab9-42ba-8775-bb2fe56b8f9e",
   "metadata": {
    "jp-MarkdownHeadingCollapsed": true,
    "tags": []
   },
   "source": [
    "#### Importing Data"
   ]
  },
  {
   "cell_type": "code",
   "execution_count": 4,
   "id": "a2aa00d7-92ed-4374-b333-32b169b67b69",
   "metadata": {
    "tags": []
   },
   "outputs": [],
   "source": [
    "import os\n",
    "from bs4 import BeautifulSoup\n",
    "from urllib.request import urlopen, Request\n",
    "from nltk.sentiment.vader import SentimentIntensityAnalyzer"
   ]
  },
  {
   "cell_type": "markdown",
   "id": "af698944-a60e-4db6-a36b-352870755389",
   "metadata": {},
   "source": [
    "- To parse the website, you should add the stock ticker to the end of the following URL: https://finviz.com/quote.ashx?t=\n",
    "- We will extract and store the date, the time, and the news headlines data. For this, as for other web-scrapping tasks, one needs to inspect the HTML code for the news headline section. In our case, the code shows that the news have been stored in a table with id=news-table. Each news headline has been put in its own row using the $\\langle$tr$\\rangle$ and $\\langle$/tr$\\rangle$ tags.\n",
    "- The date and time data has been nested within the $\\langle$td$\\rangle$ and $\\langle$/td$\\rangle$ tags, while the news headline text has been nested between $\\langle$a$\\rangle$ and $\\langle$/a$\\rangle$ tags.\n",
    "- Our goal is to extract the date, time, and news headline per row and perform sentiment analysis on the news headline. We now want to extract the entire news table for three stocks, say Amazon (AMZN), Google (GOOG), and Tesla (TSLA).\n",
    "\n",
    "The data will be stored in a Python dictionary, as done below:\n"
   ]
  },
  {
   "cell_type": "code",
   "execution_count": 5,
   "id": "ce2e3b38-6655-4bfa-939f-f0a820e9f331",
   "metadata": {
    "tags": []
   },
   "outputs": [],
   "source": [
    "web_url = 'https://finviz.com/quote.ashx?t='\n",
    "\n",
    "news_tables = {}\n",
    "tickers = ['AMZN', 'GOOG', 'TSLA']\n",
    "\n",
    "for tick in tickers:\n",
    "    url = web_url + tick # stock url\n",
    "    req = Request(url=url,headers={\"User-Agent\": \"Chrome\"})  \n",
    "    response = urlopen(req)    \n",
    "    html = BeautifulSoup(response,\"html.parser\")\n",
    "    news_table = html.find(id='news-table') # extract data\n",
    "    news_tables[tick] = news_table"
   ]
  },
  {
   "cell_type": "markdown",
   "id": "30966831-26c2-498b-a136-b50a9ccc45f2",
   "metadata": {},
   "source": [
    "- We now have a dictionary named news_data with all data, in HTML format, including the HTML tags.\n",
    "- We extract news headlines from the a tags, and dates from the td tags.\n",
    "\n",
    "Below we print the first 4 headlines:"
   ]
  },
  {
   "cell_type": "code",
   "execution_count": 8,
   "id": "286a13c0-f8e4-4905-ae55-4df45838ef11",
   "metadata": {
    "tags": []
   },
   "outputs": [
    {
     "name": "stdout",
     "output_type": "stream",
     "text": [
      "With 59% ownership of the shares, Amazon.com, Inc. (NASDAQ:AMZN) is heavily dominated by institutional owners\n",
      "Apr-26-23 07:01AM\n",
      "Heres Why Polen Capital Focus Growth Strategy Sold Dollar General Corporation (DG)\n",
      "05:42AM\n",
      "Down 20% to 46%, These Colossal Growth Stocks Could Be Ready for a Surge\n",
      "05:25AM\n",
      "Microsoft Q3 earnings: Despite cloud struggles, tech giant beat on revenue and EPS\n",
      "Apr-25-23 04:06PM\n"
     ]
    }
   ],
   "source": [
    "amazon = news_tables['AMZN']\n",
    "amazon_tr = amazon.findAll('tr')\n",
    "\n",
    "for x, table_row in enumerate(amazon_tr):\n",
    "    a_text = table_row.a.text\n",
    "    td_text = table_row.td.text\n",
    "    print(a_text)\n",
    "    print(td_text)\n",
    "    if x == 3:\n",
    "        break"
   ]
  },
  {
   "cell_type": "markdown",
   "id": "2d7d6fd4-a807-4317-951c-7e0e089254fe",
   "metadata": {},
   "source": [
    "- We now want to write some code to parse the date, the time, and the headlines into a Python List called news_list.\n",
    "- A closer look at the news headlines reveals that only the first news of each day has the date label. To account for this, we will use an if statement."
   ]
  },
  {
   "cell_type": "code",
   "execution_count": 9,
   "id": "d192b444-e2eb-4276-a2b0-7ff2e2072b3d",
   "metadata": {
    "tags": []
   },
   "outputs": [],
   "source": [
    "news_list = []\n",
    "\n",
    "for file_name, news_table in news_tables.items(): # iterate over news\n",
    "    for i in news_table.findAll('tr'): # iterate over  <tr> tags\n",
    "        \n",
    "        text = i.a.get_text() # extract text within <tr> tag that has the <a> tag\n",
    "        date_scrape = i.td.text.split() # extract and split into a list the text within <td> tag\n",
    "\n",
    "        if len(date_scrape) == 1:\n",
    "            time = date_scrape[0] # time will be loaded as the only element.\n",
    "            \n",
    "        else:\n",
    "            date = date_scrape[0] # date will be loaded as the first element \n",
    "            time = date_scrape[1] # and time as the second\n",
    "\n",
    "        tick = file_name.split('_')[0]\n",
    "        \n",
    "        news_list.append([tick, date, time, text])"
   ]
  },
  {
   "cell_type": "code",
   "execution_count": 16,
   "id": "307c2774-95be-4823-9c35-48af3c183492",
   "metadata": {
    "tags": []
   },
   "outputs": [
    {
     "data": {
      "text/plain": [
       "['AMZN',\n",
       " 'Apr-25-23',\n",
       " '12:30PM',\n",
       " 'Love Reading? Get Your Free Kindle Book Today']"
      ]
     },
     "execution_count": 16,
     "metadata": {},
     "output_type": "execute_result"
    }
   ],
   "source": [
    "news_list[10]"
   ]
  },
  {
   "cell_type": "markdown",
   "id": "d3541de7-8926-4e80-9937-32c83e51db15",
   "metadata": {},
   "source": [
    "#### Sentiment Analysis (nltk.sentiment.vader)"
   ]
  },
  {
   "cell_type": "markdown",
   "id": "c1462ef2-69b2-4123-9e3e-5bfff088eb9e",
   "metadata": {},
   "source": [
    "We can now use nltk.sentiment.vader to perform sentiment analysis. We will first store the ticker, the date, the time, and the headlines in a DataFrame. Next, we will perform sentiment analysis on the headlines and then add an additional column to our DataFrame to store the sentiment scores per headline:"
   ]
  },
  {
   "cell_type": "code",
   "execution_count": 19,
   "id": "18ec910d-ae35-4351-a3ca-4ea089128c0c",
   "metadata": {
    "tags": []
   },
   "outputs": [],
   "source": [
    "from nltk.sentiment.vader import SentimentIntensityAnalyzer\n",
    "\n",
    "# might need to download extra stuff:\n",
    "# import nltk\n",
    "# nltk.download('vader_lexicon')"
   ]
  },
  {
   "cell_type": "code",
   "execution_count": 20,
   "id": "0f0a6ea6-e714-4ee4-a18e-cf8ae8d6c056",
   "metadata": {
    "tags": []
   },
   "outputs": [
    {
     "data": {
      "text/html": [
       "<div>\n",
       "<style scoped>\n",
       "    .dataframe tbody tr th:only-of-type {\n",
       "        vertical-align: middle;\n",
       "    }\n",
       "\n",
       "    .dataframe tbody tr th {\n",
       "        vertical-align: top;\n",
       "    }\n",
       "\n",
       "    .dataframe thead th {\n",
       "        text-align: right;\n",
       "    }\n",
       "</style>\n",
       "<table border=\"1\" class=\"dataframe\">\n",
       "  <thead>\n",
       "    <tr style=\"text-align: right;\">\n",
       "      <th></th>\n",
       "      <th>ticker</th>\n",
       "      <th>date</th>\n",
       "      <th>time</th>\n",
       "      <th>headline</th>\n",
       "      <th>neg</th>\n",
       "      <th>neu</th>\n",
       "      <th>pos</th>\n",
       "      <th>compound</th>\n",
       "    </tr>\n",
       "  </thead>\n",
       "  <tbody>\n",
       "    <tr>\n",
       "      <th>0</th>\n",
       "      <td>AMZN</td>\n",
       "      <td>2023-04-26</td>\n",
       "      <td>07:01AM</td>\n",
       "      <td>With 59% ownership of the shares, Amazon.com, ...</td>\n",
       "      <td>0.0</td>\n",
       "      <td>0.864</td>\n",
       "      <td>0.136</td>\n",
       "      <td>0.2960</td>\n",
       "    </tr>\n",
       "    <tr>\n",
       "      <th>1</th>\n",
       "      <td>AMZN</td>\n",
       "      <td>2023-04-26</td>\n",
       "      <td>05:42AM</td>\n",
       "      <td>Heres Why Polen Capital Focus Growth Strategy ...</td>\n",
       "      <td>0.0</td>\n",
       "      <td>0.809</td>\n",
       "      <td>0.191</td>\n",
       "      <td>0.3818</td>\n",
       "    </tr>\n",
       "    <tr>\n",
       "      <th>2</th>\n",
       "      <td>AMZN</td>\n",
       "      <td>2023-04-26</td>\n",
       "      <td>05:25AM</td>\n",
       "      <td>Down 20% to 46%, These Colossal Growth Stocks ...</td>\n",
       "      <td>0.0</td>\n",
       "      <td>0.683</td>\n",
       "      <td>0.317</td>\n",
       "      <td>0.6249</td>\n",
       "    </tr>\n",
       "    <tr>\n",
       "      <th>3</th>\n",
       "      <td>AMZN</td>\n",
       "      <td>2023-04-25</td>\n",
       "      <td>04:06PM</td>\n",
       "      <td>Microsoft Q3 earnings: Despite cloud struggles...</td>\n",
       "      <td>0.0</td>\n",
       "      <td>0.850</td>\n",
       "      <td>0.150</td>\n",
       "      <td>0.2755</td>\n",
       "    </tr>\n",
       "    <tr>\n",
       "      <th>4</th>\n",
       "      <td>AMZN</td>\n",
       "      <td>2023-04-25</td>\n",
       "      <td>03:52PM</td>\n",
       "      <td>Everything You Need to Know About Amazon's Upc...</td>\n",
       "      <td>0.0</td>\n",
       "      <td>1.000</td>\n",
       "      <td>0.000</td>\n",
       "      <td>0.0000</td>\n",
       "    </tr>\n",
       "  </tbody>\n",
       "</table>\n",
       "</div>"
      ],
      "text/plain": [
       "  ticker        date     time  \\\n",
       "0   AMZN  2023-04-26  07:01AM   \n",
       "1   AMZN  2023-04-26  05:42AM   \n",
       "2   AMZN  2023-04-26  05:25AM   \n",
       "3   AMZN  2023-04-25  04:06PM   \n",
       "4   AMZN  2023-04-25  03:52PM   \n",
       "\n",
       "                                            headline  neg    neu    pos  \\\n",
       "0  With 59% ownership of the shares, Amazon.com, ...  0.0  0.864  0.136   \n",
       "1  Heres Why Polen Capital Focus Growth Strategy ...  0.0  0.809  0.191   \n",
       "2  Down 20% to 46%, These Colossal Growth Stocks ...  0.0  0.683  0.317   \n",
       "3  Microsoft Q3 earnings: Despite cloud struggles...  0.0  0.850  0.150   \n",
       "4  Everything You Need to Know About Amazon's Upc...  0.0  1.000  0.000   \n",
       "\n",
       "   compound  \n",
       "0    0.2960  \n",
       "1    0.3818  \n",
       "2    0.6249  \n",
       "3    0.2755  \n",
       "4    0.0000  "
      ]
     },
     "execution_count": 20,
     "metadata": {},
     "output_type": "execute_result"
    }
   ],
   "source": [
    "vader = SentimentIntensityAnalyzer()\n",
    "\n",
    "columns = ['ticker', 'date', 'time', 'headline']\n",
    "news_df = pd.DataFrame(news_list, columns=columns)\n",
    "\n",
    "# Sentiment Scores\n",
    "scores = news_df['headline'].apply(vader.polarity_scores).tolist()\n",
    "\n",
    "scores_df = pd.DataFrame(scores)\n",
    "news_df = news_df.join(scores_df, rsuffix='_right')\n",
    "news_df['date'] = pd.to_datetime(news_df.date).dt.date\n",
    "\n",
    "news_df.head()"
   ]
  },
  {
   "cell_type": "markdown",
   "id": "e6a0f611-2a94-4748-86f6-30c73cbcbc9c",
   "metadata": {
    "tags": []
   },
   "source": [
    "So what are we actually doing here? See: https://towardsdatascience.com/sentimental-analysis-using-vader-a3415fef7664\n",
    "\n",
    "- Why is Sentiment Analysis difficult to perform? Though it may seem easy on paper, Sentiment Analysis is a tricky subject. A text may contain multiple sentiments all at once.\n",
    "- VADER (Valence Aware Dictionary for Sentiment Reasoning) is a model used for text sentiment analysis that is sensitive to both polarity (positive/negative) and intensity (strength) of emotion. It is available in the NLTK package and can be applied directly to unlabeled text data.\n",
    "- VADER sentimental analysis relies on a dictionary that maps lexical features to emotion intensities known as sentiment scores. The sentiment score of a text can be obtained by summing up the intensity of each word in the text.\n",
    "\n",
    "For example - Words like 'love', 'enjoy', 'happy', 'like' all convey a positive sentiment. Also VADER is intelligent enough to understand the basic context of these words, such as 'did not love' as a negative statement. It also understands the emphasis of capitalization and punctuation, such as 'ENJOY'.\n",
    "\n",
    "NOTE 1: We’re not trying to guess how many stars a reviewer awarded, just whether the review was positive or negative.\n",
    "\n",
    "NOTE 2: A model trained on paragraph-long reviews might not be effective. \n",
    "\n"
   ]
  },
  {
   "cell_type": "markdown",
   "id": "bc5f764d-6257-483f-a998-d9ad5fed7fdf",
   "metadata": {},
   "source": [
    "- The nltk.sentiment.vaed lexicon can be used for a variety of datasets, like amazon reviews, movie reviews, or any other reviews for any product.\n",
    "- VADER’s SentimentIntensityAnalyzer() takes in a string and returns a dictionary of scores in each of four categories: NEGATIVE, NEUTRAL, POSITIVE, COMPOUND, with the latter being computed by normalizing the scores of the previous 3.\n",
    "- Let us analyze some random statements through our sentimental analyzer:\n"
   ]
  },
  {
   "cell_type": "code",
   "execution_count": 25,
   "id": "1de9e47c-e24e-4acf-95ab-537a8c8e167a",
   "metadata": {
    "tags": []
   },
   "outputs": [
    {
     "name": "stdout",
     "output_type": "stream",
     "text": [
      "{'neg': 0.0, 'neu': 0.508, 'pos': 0.492, 'compound': 0.4404}\n",
      "{'neg': 0.0, 'neu': 0.425, 'pos': 0.575, 'compound': 0.8877}\n",
      "{'neg': 0.0, 'neu': 1.0, 'pos': 0.0, 'compound': 0.0}\n",
      "{'neg': 0.0, 'neu': 0.734, 'pos': 0.266, 'compound': 0.4404}\n",
      "{'neg': 0.35, 'neu': 0.65, 'pos': 0.0, 'compound': -0.4015}\n"
     ]
    }
   ],
   "source": [
    "sid = SentimentIntensityAnalyzer()\n",
    "\n",
    "a = 'This was a good movie.'\n",
    "print(sid.polarity_scores(a))\n",
    "\n",
    "a = 'This was the best, most awesome movie EVER MADE!!!'\n",
    "print(sid.polarity_scores(a))\n",
    "\n",
    "a = 'This movie was utter dogshit!'\n",
    "print(sid.polarity_scores(a))\n",
    "\n",
    "a = 'This movie was as good as a piece of wood.' # sarcasm not very well detected\n",
    "print(sid.polarity_scores(a))\n",
    "\n",
    "a = 'It cannot get better than this!' # having some issues detecting this as well\n",
    "print(sid.polarity_scores(a))"
   ]
  },
  {
   "cell_type": "markdown",
   "id": "1d78c5f4-b3e8-4172-b517-83dbd1807a5a",
   "metadata": {},
   "source": [
    "- Let us return to our stocks. The compound column gives us the sentiment scores. A higher positive value is an indication that the sentiment is more positive. A more negative value is an indication that the sentiment is more negative.\n",
    "- The scores should range between -1 and 1.\n",
    "\n",
    "We can now plot a bar chart that visualizes the sentiment score for each day.\n",
    "\n",
    "Let's create a code that takes the average of the sentiment scores for all the news headlines collected during each date and visualize it on a bar chart. "
   ]
  },
  {
   "cell_type": "code",
   "execution_count": 26,
   "id": "780524c8-ab1f-4c44-be52-6fad7311263f",
   "metadata": {
    "tags": []
   },
   "outputs": [
    {
     "name": "stderr",
     "output_type": "stream",
     "text": [
      "C:\\Users\\Administrator\\AppData\\Local\\Temp\\ipykernel_11096\\1048971057.py:3: FutureWarning: The default value of numeric_only in DataFrameGroupBy.mean is deprecated. In a future version, numeric_only will default to False. Either specify numeric_only or select only columns which should be valid for the function.\n",
      "  mean_scores = news_df.groupby(['ticker','date']).mean()\n"
     ]
    },
    {
     "data": {
      "image/png": "[encoded data removed]",
      "text/plain": [
       "<Figure size 1000x600 with 1 Axes>"
      ]
     },
     "metadata": {},
     "output_type": "display_data"
    }
   ],
   "source": [
    "plt.rcParams['figure.figsize'] = [10, 6]\n",
    "\n",
    "mean_scores = news_df.groupby(['ticker','date']).mean() # group elements by columns 'ticker' and 'date'\n",
    "# this achieves a mean of the scores per day (as day is specified by date), for each ticker\n",
    "\n",
    "# The unstack method returns a DataFrame having a new level of column labels \n",
    "# whose inner-most level consists of the pivoted index labels.\n",
    "# here: date and tickers\n",
    "mean_scores = mean_scores.unstack() \n",
    "mean_scores = mean_scores.xs('compound', axis=\"columns\").transpose()\n",
    "\n",
    "mean_scores.plot(kind = 'bar')\n",
    "\n",
    "plt.grid()\n",
    "plt.show()"
   ]
  },
  {
   "cell_type": "markdown",
   "id": "fd0bb822-95f0-4e02-8a12-d310c8fa0be6",
   "metadata": {},
   "source": [
    "# NLP for 10-k forms\n",
    "\n",
    "Based on: https://towardsdatascience.com/nlp-in-the-stock-market-8760d062eb92\n",
    "\n",
    "- Natural language processing (NLP) enables us to analyze financial documents such as 10-k forms to forecast stock movements. A Form 10-K is an annual report required by the U.S. Securities and Exchange Commission (SEC), that gives a comprehensive summary of a company's financial performance. The 10-K includes information such as company history, organizational structure, executive compensation, equity, subsidiaries, and audited financial statements, among other information, and is usually slightly different from the \"annual report to shareholders\"."
   ]
  },
  {
   "cell_type": "markdown",
   "id": "3441d5d1-d219-4b05-8cd6-0217bfc90af7",
   "metadata": {},
   "source": [
    "#### NLP Explained"
   ]
  },
  {
   "cell_type": "markdown",
   "id": "073b3500-7994-4b05-894d-78ec94a83bb6",
   "metadata": {},
   "source": [
    "- Natural language processing is a branch of artificial intelligence concerned with teaching computers to read and derive meaning from language. Since language is so complex, computers have to be taken through a series of steps before they can comprehend text. The following is a quick explanation of the steps that appear in a typical NLP pipeline:\n",
    "1. Sentence Segmentation: The text document is segmented into individual sentences.\n",
    "2. Tokenization: Once the document is broken into sentences, we further split the sentences into individual words. Each word is called a token, hence the name tokenization.\n",
    "3. Parts-of-Speech-Tagging: We input each token as well as a few words around it into a pre trained part-of-speech classification model to receive the part-of-speech for the token as an output.\n",
    "4. Lemmatization: Words often appear in different forms while referring to the same object/action. To prevent the computer from thinking of different forms of a word as different words, we perform lemmatization, the process of grouping together various inflections of a word to analyze them as a single item, identified by the word’s lemma (how the word appears in the dictionary).\n",
    "5. Stop Words: Extremely common words such as “and”, “the” and “a” don’t provide any value, so we identify them as stop words to exclude them from any analysis performed on the text.\n",
    "6. Dependency Parsing: Assign a syntactic structure to sentences and make sense of how the words in the sentence relate to each other by feeding the words to a dependency parser.\n",
    "7. Noun Phrases: Grouping the noun phrases in a sentence together can help simplify sentences for cases when we don’t care about adjectives.\n",
    "8. Named Entity Recognition: A Named Entity Recognition model can tag objects such as people’s names, company names, and geographic locations.\n",
    "9. Coreference Resolution: Since NLP models analyze individual sentences, they become confused by pronouns referring to nouns from other sentences. To solve this problem, we employ coreference resolution which tracks pronouns across sentences to avoid confusion."
   ]
  },
  {
   "cell_type": "markdown",
   "id": "515869d8-0986-41ab-b8dc-9dbafda81fba",
   "metadata": {},
   "source": [
    "Four our purposes, see https://github.com/roshan-adusumilli/nlp_10-ks full github repository. There are some utility functions inside project_helper and project_tests that we will use."
   ]
  },
  {
   "cell_type": "code",
   "execution_count": 10,
   "id": "0691a4fc-09b6-4b07-b22f-5ba24d57f489",
   "metadata": {
    "tags": []
   },
   "outputs": [],
   "source": [
    "import nltk\n",
    "import pickle\n",
    "import pprint\n",
    "from tqdm import tqdm"
   ]
  },
  {
   "cell_type": "code",
   "execution_count": 13,
   "id": "6a8968ca-6954-4d62-885f-ce76e21d9e47",
   "metadata": {
    "tags": []
   },
   "outputs": [],
   "source": [
    "import sys\n",
    "sys.path.append(\"C:/Users/Administrator/Desktop/ML projects/Stock Sentiment\")\n",
    "\n",
    "import project_helper"
   ]
  },
  {
   "cell_type": "markdown",
   "id": "22f010cf-ac97-45e7-a6f9-71fbe18f287b",
   "metadata": {},
   "source": [
    "Then we download the stopwords corpus for removing stopwords and wordnet corpus for lemmatizing."
   ]
  },
  {
   "cell_type": "code",
   "execution_count": 14,
   "id": "8d0f04ee-d033-4d2a-8799-f890b1a01875",
   "metadata": {
    "tags": []
   },
   "outputs": [
    {
     "name": "stderr",
     "output_type": "stream",
     "text": [
      "[nltk_data] Downloading package stopwords to\n",
      "[nltk_data]     C:\\Users\\Administrator\\AppData\\Roaming\\nltk_data...\n",
      "[nltk_data]   Unzipping corpora\\stopwords.zip.\n",
      "[nltk_data] Downloading package wordnet to\n",
      "[nltk_data]     C:\\Users\\Administrator\\AppData\\Roaming\\nltk_data...\n"
     ]
    },
    {
     "data": {
      "text/plain": [
       "True"
      ]
     },
     "execution_count": 14,
     "metadata": {},
     "output_type": "execute_result"
    }
   ],
   "source": [
    "nltk.download('stopwords')\n",
    "nltk.download('wordnet')"
   ]
  },
  {
   "cell_type": "markdown",
   "id": "46492caf-3727-4570-82f5-44744648a39b",
   "metadata": {},
   "source": [
    "10-k documents include information such as company history, organizational structure, executive compensation, equity, subsidiaries, and audited financial statements. To lookup 10-k documents, we use each company’s unique CIK (Central Index Key).\n",
    "\n",
    "We pull a list of filed 10-ks from the SEC and display Amazon data as an example."
   ]
  },
  {
   "cell_type": "code",
   "execution_count": 15,
   "id": "6c65e637-dfe8-4b42-8aa4-42d87b1625cd",
   "metadata": {
    "tags": []
   },
   "outputs": [],
   "source": [
    "from bs4 import BeautifulSoup\n",
    "\n",
    "cik_lookup = {\n",
    "    'AMZN': '0001018724',\n",
    "    'BMY': '0000014272',   \n",
    "    'CNP': '0001130310',\n",
    "    'CVX': '0000093410',\n",
    "    'FL': '0000850209',\n",
    "    'FRT': '0000034903',\n",
    "    'HON': '0000773840'}\n",
    "\n",
    "sec_api = project_helper.SecAPI()\n",
    "\n",
    "def get_sec_data(cik, doc_type, start=0, count=60):\n",
    "    rss_url = 'https://www.sec.gov/cgi-bin/browse-edgar?action=getcompany' \\\n",
    "        '&CIK={}&type={}&start={}&count={}&owner=exclude&output=atom' \\\n",
    "        .format(cik, doc_type, start, count)\n",
    "    sec_data = sec_api.get(rss_url)\n",
    "    feed = BeautifulSoup(sec_data.encode('ascii'), 'xml').feed\n",
    "    entries = [(\n",
    "            entry.content.find('filing-href').getText(),\n",
    "            entry.content.find('filing-type').getText(),\n",
    "            entry.content.find('filing-date').getText())\n",
    "        for entry in feed.find_all('entry', recursive=False)]\n",
    "    return entries\n"
   ]
  },
  {
   "cell_type": "code",
   "execution_count": 16,
   "id": "31a55b3a-ff58-4fc9-8295-62bed6fdf6d6",
   "metadata": {
    "tags": []
   },
   "outputs": [
    {
     "ename": "UnicodeEncodeError",
     "evalue": "'ascii' codec can't encode characters in position 2599-2601: ordinal not in range(128)",
     "output_type": "error",
     "traceback": [
      "\u001b[1;31m---------------------------------------------------------------------------\u001b[0m",
      "\u001b[1;31mUnicodeEncodeError\u001b[0m                        Traceback (most recent call last)",
      "Cell \u001b[1;32mIn[16], line 4\u001b[0m\n\u001b[0;32m      2\u001b[0m sec_data \u001b[38;5;241m=\u001b[39m {}\n\u001b[0;32m      3\u001b[0m \u001b[38;5;28;01mfor\u001b[39;00m ticker, cik \u001b[38;5;129;01min\u001b[39;00m cik_lookup\u001b[38;5;241m.\u001b[39mitems():\n\u001b[1;32m----> 4\u001b[0m     sec_data[ticker] \u001b[38;5;241m=\u001b[39m \u001b[43mget_sec_data\u001b[49m\u001b[43m(\u001b[49m\u001b[43mcik\u001b[49m\u001b[43m,\u001b[49m\u001b[43m \u001b[49m\u001b[38;5;124;43m'\u001b[39;49m\u001b[38;5;124;43m10-K\u001b[39;49m\u001b[38;5;124;43m'\u001b[39;49m\u001b[43m)\u001b[49m\n\u001b[0;32m      6\u001b[0m pprint\u001b[38;5;241m.\u001b[39mpprint(sec_data[example_ticker][:\u001b[38;5;241m5\u001b[39m])\n",
      "Cell \u001b[1;32mIn[15], line 19\u001b[0m, in \u001b[0;36mget_sec_data\u001b[1;34m(cik, doc_type, start, count)\u001b[0m\n\u001b[0;32m     15\u001b[0m rss_url \u001b[38;5;241m=\u001b[39m \u001b[38;5;124m'\u001b[39m\u001b[38;5;124mhttps://www.sec.gov/cgi-bin/browse-edgar?action=getcompany\u001b[39m\u001b[38;5;124m'\u001b[39m \\\n\u001b[0;32m     16\u001b[0m     \u001b[38;5;124m'\u001b[39m\u001b[38;5;124m&CIK=\u001b[39m\u001b[38;5;132;01m{}\u001b[39;00m\u001b[38;5;124m&type=\u001b[39m\u001b[38;5;132;01m{}\u001b[39;00m\u001b[38;5;124m&start=\u001b[39m\u001b[38;5;132;01m{}\u001b[39;00m\u001b[38;5;124m&count=\u001b[39m\u001b[38;5;132;01m{}\u001b[39;00m\u001b[38;5;124m&owner=exclude&output=atom\u001b[39m\u001b[38;5;124m'\u001b[39m \\\n\u001b[0;32m     17\u001b[0m     \u001b[38;5;241m.\u001b[39mformat(cik, doc_type, start, count)\n\u001b[0;32m     18\u001b[0m sec_data \u001b[38;5;241m=\u001b[39m sec_api\u001b[38;5;241m.\u001b[39mget(rss_url)\n\u001b[1;32m---> 19\u001b[0m feed \u001b[38;5;241m=\u001b[39m BeautifulSoup(\u001b[43msec_data\u001b[49m\u001b[38;5;241;43m.\u001b[39;49m\u001b[43mencode\u001b[49m\u001b[43m(\u001b[49m\u001b[38;5;124;43m'\u001b[39;49m\u001b[38;5;124;43mascii\u001b[39;49m\u001b[38;5;124;43m'\u001b[39;49m\u001b[43m)\u001b[49m, \u001b[38;5;124m'\u001b[39m\u001b[38;5;124mxml\u001b[39m\u001b[38;5;124m'\u001b[39m)\u001b[38;5;241m.\u001b[39mfeed\n\u001b[0;32m     20\u001b[0m entries \u001b[38;5;241m=\u001b[39m [\n\u001b[0;32m     21\u001b[0m     (\n\u001b[0;32m     22\u001b[0m         entry\u001b[38;5;241m.\u001b[39mcontent\u001b[38;5;241m.\u001b[39mfind(\u001b[38;5;124m'\u001b[39m\u001b[38;5;124mfiling-href\u001b[39m\u001b[38;5;124m'\u001b[39m)\u001b[38;5;241m.\u001b[39mgetText(),\n\u001b[0;32m     23\u001b[0m         entry\u001b[38;5;241m.\u001b[39mcontent\u001b[38;5;241m.\u001b[39mfind(\u001b[38;5;124m'\u001b[39m\u001b[38;5;124mfiling-type\u001b[39m\u001b[38;5;124m'\u001b[39m)\u001b[38;5;241m.\u001b[39mgetText(),\n\u001b[0;32m     24\u001b[0m         entry\u001b[38;5;241m.\u001b[39mcontent\u001b[38;5;241m.\u001b[39mfind(\u001b[38;5;124m'\u001b[39m\u001b[38;5;124mfiling-date\u001b[39m\u001b[38;5;124m'\u001b[39m)\u001b[38;5;241m.\u001b[39mgetText())\n\u001b[0;32m     25\u001b[0m     \u001b[38;5;28;01mfor\u001b[39;00m entry \u001b[38;5;129;01min\u001b[39;00m feed\u001b[38;5;241m.\u001b[39mfind_all(\u001b[38;5;124m'\u001b[39m\u001b[38;5;124mentry\u001b[39m\u001b[38;5;124m'\u001b[39m, recursive\u001b[38;5;241m=\u001b[39m\u001b[38;5;28;01mFalse\u001b[39;00m)]\n\u001b[0;32m     26\u001b[0m \u001b[38;5;28;01mreturn\u001b[39;00m entries\n",
      "\u001b[1;31mUnicodeEncodeError\u001b[0m: 'ascii' codec can't encode characters in position 2599-2601: ordinal not in range(128)"
     ]
    }
   ],
   "source": [
    "example_ticker = 'AMZN'\n",
    "sec_data = {}\n",
    "for ticker, cik in cik_lookup.items():\n",
    "    sec_data[ticker] = get_sec_data(cik, '10-K')\n",
    "    \n",
    "pprint.pprint(sec_data[example_ticker][:5])"
   ]
  },
  {
   "cell_type": "code",
   "execution_count": null,
   "id": "e1e94d97-9989-4a95-ae9b-3fdf3c32a87d",
   "metadata": {},
   "outputs": [],
   "source": []
  }
 ],
 "metadata": {
  "kernelspec": {
   "display_name": "Python 3 (ipykernel)",
   "language": "python",
   "name": "python3"
  },
  "language_info": {
   "codemirror_mode": {
    "name": "ipython",
    "version": 3
   },
   "file_extension": ".py",
   "mimetype": "text/x-python",
   "name": "python",
   "nbconvert_exporter": "python",
   "pygments_lexer": "ipython3",
   "version": "3.11.1"
  }
 },
 "nbformat": 4,
 "nbformat_minor": 5
}
