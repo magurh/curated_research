{
 "cells": [
  {
   "cell_type": "code",
   "execution_count": null,
   "id": "451896a8-cdb9-412f-9425-0d5bc6898105",
   "metadata": {},
   "outputs": [],
   "source": []
  },
  {
   "cell_type": "markdown",
   "id": "fa54f824-3d0c-4bf2-806b-4beeed6ca740",
   "metadata": {},
   "source": [
    "## Cross-Validation\n",
    "\n",
    "\n",
    "#### For regression\n",
    "\n",
    "- RepeatedKFold: \n",
    "\n",
    "#### For classification\n",
    "\n",
    "- RepeatedStratifiedKFold:\n",
    "- StratifiedKFold:"
   ]
  }
 ],
 "metadata": {
  "kernelspec": {
   "display_name": "Python 3 (ipykernel)",
   "language": "python",
   "name": "python3"
  },
  "language_info": {
   "codemirror_mode": {
    "name": "ipython",
    "version": 3
   },
   "file_extension": ".py",
   "mimetype": "text/x-python",
   "name": "python",
   "nbconvert_exporter": "python",
   "pygments_lexer": "ipython3",
   "version": "3.11.3"
  }
 },
 "nbformat": 4,
 "nbformat_minor": 5
}
